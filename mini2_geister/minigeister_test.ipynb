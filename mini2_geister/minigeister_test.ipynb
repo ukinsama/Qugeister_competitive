{
 "cells": [
  {
   "cell_type": "markdown",
   "metadata": {},
   "source": [
    "# Mini Geister Environment Test\n",
    "環境テスト用ノートブック"
   ]
  },
  {
   "cell_type": "code",
   "execution_count": null,
   "metadata": {},
   "outputs": [],
   "source": [
    "# パッケージインポートテスト\n",
    "import torch\n",
    "import pennylane as qml\n",
    "import numpy as np\n",
    "import matplotlib.pyplot as plt\n",
    "import pandas as pd\n",
    "\n",
    "print(f\"🔥 PyTorch: {torch.__version__}\")\n",
    "print(f\"⚛️ PennyLane: {qml.__version__}\")\n",
    "print(f\"🔢 NumPy: {np.__version__}\")\n",
    "print(f\"📊 Pandas: {pd.__version__}\")\n",
    "print(\"🎨 Matplotlib: 準備完了\")\n",
    "\n",
    "print(\"\\n✅ すべてのパッケージが正常にインポートされました！\")\n",
    "print(\"🎯 ミニガイスター量子AI開発環境準備完了！\")"
   ]
  },
  {
   "cell_type": "code",
   "execution_count": null,
   "metadata": {},
   "outputs": [],
   "source": [
    "# 簡単な量子回路テスト\n",
    "dev = qml.device(\"lightning.qubit\", wires=2)\n",
    "\n",
    "\n",
    "@qml.qnode(dev)\n",
    "def test_circuit():\n",
    "    qml.Hadamard(wires=0)\n",
    "    qml.CNOT(wires=[0, 1])\n",
    "    return qml.probs(wires=[0, 1])\n",
    "\n",
    "\n",
    "result = test_circuit()\n",
    "print(\"🧪 量子回路テスト結果:\")\n",
    "print(f\"確率分布: {result}\")\n",
    "print(\"✅ 量子回路が正常に動作しています！\")"
   ]
  },
  {
   "cell_type": "code",
   "execution_count": null,
   "metadata": {},
   "outputs": [],
   "source": [
    "# 簡単な可視化テスト\n",
    "\n",
    "x = np.linspace(0, 2 * np.pi, 100)\n",
    "y = np.sin(x)\n",
    "\n",
    "plt.figure(figsize=(8, 4))\n",
    "plt.plot(x, y, \"b-\", linewidth=2, label=\"sin(x)\")\n",
    "plt.title(\"📊 可視化テスト\", fontsize=14)\n",
    "plt.xlabel(\"x\")\n",
    "plt.ylabel(\"sin(x)\")\n",
    "plt.legend()\n",
    "plt.grid(True, alpha=0.3)\n",
    "plt.show()\n",
    "\n",
    "print(\"✅ 可視化環境も正常です！\")"
   ]
  }
 ],
 "metadata": {
  "kernelspec": {
   "display_name": "Python 3",
   "language": "python",
   "name": "python3"
  },
  "language_info": {
   "codemirror_mode": {
    "name": "ipython",
    "version": 3
   },
   "file_extension": ".py",
   "mimetype": "text/x-python",
   "name": "python",
   "nbconvert_exporter": "python",
   "pygments_lexer": "ipython3",
   "version": "3.10.11"
  }
 },
 "nbformat": 4,
 "nbformat_minor": 4
}
